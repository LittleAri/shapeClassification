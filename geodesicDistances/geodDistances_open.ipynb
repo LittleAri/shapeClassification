{
 "cells": [
  {
   "cell_type": "markdown",
   "metadata": {},
   "source": [
    "## Geodesic Distances\n",
    "\n",
    "Using the [fdasrsf](https://fdasrsf-python.readthedocs.io/en/latest/) library, we compute the geodesic distances between pairs of open curves."
   ]
  },
  {
   "cell_type": "markdown",
   "metadata": {},
   "source": [
    "#### Imports / Functions"
   ]
  },
  {
   "cell_type": "code",
   "execution_count": 2,
   "metadata": {},
   "outputs": [],
   "source": [
    "import pandas as pd\n",
    "import numpy as np\n",
    "from copy import deepcopy\n",
    "import tqdm\n",
    "from fdasrsf.geodesic import geod_sphere"
   ]
  },
  {
   "cell_type": "code",
   "execution_count": 3,
   "metadata": {},
   "outputs": [],
   "source": [
    "def rescale_shell(x,y,v=3):\n",
    "    # Code to scale a curve so that it lies between +-v/2 (default: 1.5) in both axes.\n",
    "    p = max(max(y)-min(y),max(x)-min(x))\n",
    "    q = p/v\n",
    "    x_ = x/q\n",
    "    y_ = y/q\n",
    "    mp = min(x_)+(max(x_)-min(x_))/2\n",
    "    x_ = x_-mp\n",
    "    mp = min(y_)+(max(y_)-min(y_))/2\n",
    "    y_ = y_-mp\n",
    "    return x_,y_"
   ]
  },
  {
   "cell_type": "markdown",
   "metadata": {},
   "source": [
    "#### Process Data"
   ]
  },
  {
   "cell_type": "code",
   "execution_count": 4,
   "metadata": {},
   "outputs": [],
   "source": [
    "pth = \"C:\\\\Users\\\\arian\\\\Documents\\\\GitHub\\\\distances.csv\"\n",
    "table = pd.read_csv(pth,header=None)"
   ]
  },
  {
   "cell_type": "code",
   "execution_count": 5,
   "metadata": {},
   "outputs": [
    {
     "name": "stdout",
     "output_type": "stream",
     "text": [
      "n: 440\n"
     ]
    }
   ],
   "source": [
    "all_points = []\n",
    "n = len(table)\n",
    "print(\"n: \"+str(n))\n",
    "for j in range(0,n):\n",
    "    coords = list(table.T[j])\n",
    "    x = []\n",
    "    y = []\n",
    "    for i in range(0,len(coords)):\n",
    "        if i%2 == 0:\n",
    "            x.append(coords[i])\n",
    "        else:\n",
    "            y.append(coords[i])\n",
    "            \n",
    "    x,y = rescale_shell(np.array(x)[:-1],np.array(y)[:-1])\n",
    "\n",
    "    F = np.column_stack((x,y)).T \n",
    "    all_points.append(F)"
   ]
  },
  {
   "cell_type": "markdown",
   "metadata": {},
   "source": [
    "#### Pairwise Distances"
   ]
  },
  {
   "cell_type": "code",
   "execution_count": 7,
   "metadata": {},
   "outputs": [
    {
     "name": "stderr",
     "output_type": "stream",
     "text": [
      "100%|████████████████████████████████████████████████████████████████████████████| 440/440 [00:00<00:00, 440031.89it/s]"
     ]
    },
    {
     "name": "stdout",
     "output_type": "stream",
     "text": [
      "Computed distances between 440 contours, with 0 errors.\n"
     ]
    },
    {
     "name": "stderr",
     "output_type": "stream",
     "text": [
      "\n"
     ]
    }
   ],
   "source": [
    "distances_DP = np.zeros((n,n))\n",
    "errors = []\n",
    "\n",
    "for i in tqdm.tqdm(range(0,n)):\n",
    "    x1 = all_points[i][0]\n",
    "    y1 = all_points[i][1]\n",
    "    beta1 = np.column_stack([x1,y1]).T\n",
    "\n",
    "    for j in range(i+1,n):\n",
    "        x2 = all_points[j][0]\n",
    "        y2 = all_points[j][1]\n",
    "        \n",
    "        beta2 = np.column_stack([x2,y2]).T\n",
    "        \n",
    "        try:\n",
    "            d,_,_, = geod_sphere(beta1, beta2)\n",
    "        except:\n",
    "            try:\n",
    "                d,_,_, = geod_sphere(beta2, beta1)\n",
    "            except:\n",
    "                print(\"Error for contours \"+str(i)+\" and \"+str(j))\n",
    "                errors.append([i,j])\n",
    "                d = 100000\n",
    "                \n",
    "        distances_DP[i,j] = d\n",
    "        distances_DP[j,i] = d\n",
    "        \n",
    "    pd.DataFrame(distances_DP).to_csv('Open_dists.csv')\n",
    "\n",
    "\n",
    "print(\"Computed distances between \"+str(n)+\" contours, with \"+str(len(errors))+\" errors.\")"
   ]
  },
  {
   "cell_type": "markdown",
   "metadata": {},
   "source": [
    "#### Saving Distances"
   ]
  },
  {
   "cell_type": "code",
   "execution_count": 8,
   "metadata": {},
   "outputs": [],
   "source": [
    "dfInd = pd.read_csv(\"C:\\\\Users\\\\arian\\\\Documents\\\\GitHub\\\\Index.csv\")\n",
    "names = list(dfInd['Name'])\n",
    "df = pd.DataFrame(distances_DP)\n",
    "\n",
    "df.columns = names\n",
    "df.index = names\n",
    "df.index.name = 'Name'\n",
    "df.to_csv('Open_Distances.csv')"
   ]
  }
 ],
 "metadata": {
  "kernelspec": {
   "display_name": "Python 3",
   "language": "python",
   "name": "python3"
  },
  "language_info": {
   "codemirror_mode": {
    "name": "ipython",
    "version": 3
   },
   "file_extension": ".py",
   "mimetype": "text/x-python",
   "name": "python",
   "nbconvert_exporter": "python",
   "pygments_lexer": "ipython3",
   "version": "3.7.1"
  }
 },
 "nbformat": 4,
 "nbformat_minor": 4
}

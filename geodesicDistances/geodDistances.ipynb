{
 "cells": [
  {
   "cell_type": "markdown",
   "metadata": {},
   "source": [
    "# Geodesic Distances\n",
    "\n",
    "In this notebook, we compute the SRVF geodesic distance between pairs of functions (e.g. contours) using the [fdasrsf](https://fdasrsf-python.readthedocs.io/en/latest/) library."
   ]
  },
  {
   "cell_type": "markdown",
   "metadata": {},
   "source": [
    "#### Imports"
   ]
  },
  {
   "cell_type": "code",
   "execution_count": 1,
   "metadata": {},
   "outputs": [],
   "source": [
    "import pandas as pd\n",
    "import numpy as np\n",
    "from copy import deepcopy\n",
    "from geodesicDistances import geodDistance\n",
    "import tqdm"
   ]
  },
  {
   "cell_type": "markdown",
   "metadata": {},
   "source": [
    "### Data\n",
    "We assume that the data is in a CSV with a column name called \"Filename\", and the X, Y coordinates in columns called \"X\", and \"Y\" respectively."
   ]
  },
  {
   "cell_type": "code",
   "execution_count": 3,
   "metadata": {},
   "outputs": [
    {
     "name": "stdout",
     "output_type": "stream",
     "text": [
      "680 contours in dataset.\n"
     ]
    }
   ],
   "source": [
    "pth = \"C:\\\\Users\\\\arian\\\\Documents\\\\GitHub\\\\Birds\\\\topContours_filtered.csv\"\n",
    "df = pd.read_csv(pth)\n",
    "names = np.unique(list(df['Filename']))\n",
    "n = len(names)\n",
    "print(str(n)+\" contours in dataset.\")"
   ]
  },
  {
   "cell_type": "markdown",
   "metadata": {},
   "source": [
    "### Pairwise Distances\n",
    "\n",
    "We compute the pairwise distances with a for-loop so that the ouput is an nxn array. Note that since d(a,b) = d(b,a), we only compute one of the distances, in order to save time. Furthermore, we don't compute the distance between a contour and itself."
   ]
  },
  {
   "cell_type": "code",
   "execution_count": null,
   "metadata": {},
   "outputs": [
    {
     "name": "stderr",
     "output_type": "stream",
     "text": [
      "\r",
      "  0%|                                                                                            | 0/5 [00:00<?, ?it/s]"
     ]
    }
   ],
   "source": [
    "distances = np.zeros((n,n))\n",
    "errors = []\n",
    "\n",
    "for i in tqdm.tqdm(range(0,n)):\n",
    "    x1 = list(df[df['Filename']==names[i]]['X'])\n",
    "    y1 = list(df[df['Filename']==names[i]]['Y'])\n",
    "    for j in range(i+1,n):\n",
    "        x2 = list(df[df['Filename']==names[j]]['X'])\n",
    "        y2 = list(df[df['Filename']==names[j]]['Y'])\n",
    "        try:\n",
    "            d,_,_,_ = geodDistance(x1,y1,x2,y2,k=5)\n",
    "        except:\n",
    "            try:\n",
    "                d,_,_,_ = geodDistance(x2,y2,x1,y1,k=5)\n",
    "            except:\n",
    "                print(\"Error for contours \"+str(i)+\" and \"+str(j))\n",
    "                errors.append([i,j])\n",
    "                d = 100000\n",
    "        distances[i,j] = d\n",
    "        distances[j,i] = d\n",
    "\n",
    "print(\"Computed distances between \"+str(n)+\" contours, with \"+str(len(errors))+\" errors.\")"
   ]
  },
  {
   "cell_type": "markdown",
   "metadata": {},
   "source": [
    "### Saving Distances"
   ]
  },
  {
   "cell_type": "code",
   "execution_count": 9,
   "metadata": {},
   "outputs": [],
   "source": [
    "distancesDF = pd.DataFrame(distances,index=names)\n",
    "distancesDF.columns = names\n",
    "distancesDF.index.name='Name'\n",
    "distancesDF.to_csv('kiwiDistances.csv')"
   ]
  },
  {
   "cell_type": "code",
   "execution_count": null,
   "metadata": {},
   "outputs": [],
   "source": []
  }
 ],
 "metadata": {
  "kernelspec": {
   "display_name": "Python 3",
   "language": "python",
   "name": "python3"
  },
  "language_info": {
   "codemirror_mode": {
    "name": "ipython",
    "version": 3
   },
   "file_extension": ".py",
   "mimetype": "text/x-python",
   "name": "python",
   "nbconvert_exporter": "python",
   "pygments_lexer": "ipython3",
   "version": "3.7.1"
  }
 },
 "nbformat": 4,
 "nbformat_minor": 4
}

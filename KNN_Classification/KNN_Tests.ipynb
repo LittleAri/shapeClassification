{
 "cells": [
  {
   "cell_type": "markdown",
   "metadata": {},
   "source": [
    "# KNN Distance Matrix\n",
    "\n",
    "Here, we run a KNN classifier using a distance matrix. The classifier is run on multiple randomized training and testing sets, where the number of iterations can be specified with the _nBootstrapping_ parameter in the function ``KNN_bootstrapping``. The classifier can try multiple values for k, and the results from the k that resulted in the highest classification score (F1) will be outputted. k can be specified in the same function, for example, one can write:\n",
    "``kNeighbours=np.int_(np.linspace(3, 12, 10))``"
   ]
  },
  {
   "cell_type": "markdown",
   "metadata": {},
   "source": [
    "#### Imports"
   ]
  },
  {
   "cell_type": "code",
   "execution_count": 1,
   "metadata": {},
   "outputs": [],
   "source": [
    "import numpy as np\n",
    "import pandas as pd\n",
    "from KNN_distanceMatrix import *\n",
    "import os\n",
    "import tqdm"
   ]
  },
  {
   "cell_type": "markdown",
   "metadata": {},
   "source": [
    "#### Data"
   ]
  },
  {
   "cell_type": "code",
   "execution_count": 2,
   "metadata": {},
   "outputs": [],
   "source": [
    "# THINGS TO EDIT:\n",
    "dfMeta = pd.read_csv(\"pots\\\\Code\\\\leavesIndex.csv\")\n",
    "dfDists = pd.read_csv(\"pots\\\\Code\\\\Leaves_Scaled_L2_Dists.csv\")\n",
    "classType = int #NOTE: if you're classes are integers e.g. Species 1-10, then write int, else, if they're stings, write str\n",
    "\n",
    "############################################\n",
    "classes = np.unique(list(dfMeta['Class']))"
   ]
  },
  {
   "cell_type": "markdown",
   "metadata": {},
   "source": [
    "#### KNN Bootstrapping"
   ]
  },
  {
   "cell_type": "code",
   "execution_count": 16,
   "metadata": {},
   "outputs": [],
   "source": [
    "results = KNN_Bootstrapping(\n",
    "    dfMeta,\n",
    "    dfDists,\n",
    "    classes,\n",
    "    nBootstrapping=3,\n",
    "    classType=classType,\n",
    "    trainingSetSize=15,\n",
    "    trainingProportion=0.35\n",
    ")"
   ]
  },
  {
   "cell_type": "markdown",
   "metadata": {},
   "source": [
    "#### Saving Results"
   ]
  },
  {
   "cell_type": "code",
   "execution_count": 8,
   "metadata": {},
   "outputs": [],
   "source": [
    "# Save classification results that outputted the highest F1 score in the KNN bootstrapping:\n",
    "results['topClassification'].to_csv('ClassificationTest.csv',index=False)"
   ]
  },
  {
   "cell_type": "code",
   "execution_count": 19,
   "metadata": {},
   "outputs": [
    {
     "data": {
      "text/html": [
       "<div>\n",
       "<style scoped>\n",
       "    .dataframe tbody tr th:only-of-type {\n",
       "        vertical-align: middle;\n",
       "    }\n",
       "\n",
       "    .dataframe tbody tr th {\n",
       "        vertical-align: top;\n",
       "    }\n",
       "\n",
       "    .dataframe thead th {\n",
       "        text-align: right;\n",
       "    }\n",
       "</style>\n",
       "<table border=\"1\" class=\"dataframe\">\n",
       "  <thead>\n",
       "    <tr style=\"text-align: right;\">\n",
       "      <th></th>\n",
       "      <th>0</th>\n",
       "      <th>1</th>\n",
       "      <th>2</th>\n",
       "      <th>3</th>\n",
       "      <th>4</th>\n",
       "    </tr>\n",
       "  </thead>\n",
       "  <tbody>\n",
       "    <tr>\n",
       "      <th>0</th>\n",
       "      <td>0.825791</td>\n",
       "      <td>0.798759</td>\n",
       "      <td>0.762409</td>\n",
       "      <td>0.784465</td>\n",
       "      <td>0.775548</td>\n",
       "    </tr>\n",
       "  </tbody>\n",
       "</table>\n",
       "</div>"
      ],
      "text/plain": [
       "          0         1         2         3         4\n",
       "0  0.825791  0.798759  0.762409  0.784465  0.775548"
      ]
     },
     "execution_count": 19,
     "metadata": {},
     "output_type": "execute_result"
    }
   ],
   "source": [
    "# Save the F1 scores from the KNN bootstrapping:\n",
    "pd.DataFrame(results['allF1Scores'])\n",
    "pd.DataFrame(results['allF1Scores']).to_csv('allF1Scores_Test.csv',index=False)"
   ]
  },
  {
   "cell_type": "code",
   "execution_count": 20,
   "metadata": {},
   "outputs": [],
   "source": [
    "# Save the randomized training sets from the KNN bootstrapping, in case you need to recreate the results:\n",
    "pd.DataFrame(results['allTrainingSamples']).T.to_csv('allTrainingSamples.csv',index=False)"
   ]
  },
  {
   "cell_type": "code",
   "execution_count": 5,
   "metadata": {},
   "outputs": [],
   "source": [
    "# Save training and testing samples from the top KNN test:\n",
    "topTraining = results['topTrainingTesting'][0]\n",
    "topTesting = results['topTrainingTesting'][1]\n",
    "all_names = list(dfMeta['Name'])\n",
    "training_testing = [\"train\" if nm in topTraining else \"test\" for nm in all_names]\n",
    "trainTestData = pd.DataFrame([all_names,training_testing]).T\n",
    "trainTestData = trainTestData.rename(columns={0: \"Name\", 1: \"Train_Test\"})\n",
    "trainTestData.to_csv('trainingTestingSamples.csv',index=False)"
   ]
  },
  {
   "cell_type": "code",
   "execution_count": 7,
   "metadata": {},
   "outputs": [
    {
     "data": {
      "text/html": [
       "<div>\n",
       "<style scoped>\n",
       "    .dataframe tbody tr th:only-of-type {\n",
       "        vertical-align: middle;\n",
       "    }\n",
       "\n",
       "    .dataframe tbody tr th {\n",
       "        vertical-align: top;\n",
       "    }\n",
       "\n",
       "    .dataframe thead th {\n",
       "        text-align: right;\n",
       "    }\n",
       "</style>\n",
       "<table border=\"1\" class=\"dataframe\">\n",
       "  <thead>\n",
       "    <tr style=\"text-align: right;\">\n",
       "      <th></th>\n",
       "      <th>Name</th>\n",
       "      <th>Train_Test</th>\n",
       "    </tr>\n",
       "  </thead>\n",
       "  <tbody>\n",
       "    <tr>\n",
       "      <th>1</th>\n",
       "      <td>l10nr002</td>\n",
       "      <td>train</td>\n",
       "    </tr>\n",
       "    <tr>\n",
       "      <th>2</th>\n",
       "      <td>l10nr003</td>\n",
       "      <td>train</td>\n",
       "    </tr>\n",
       "    <tr>\n",
       "      <th>8</th>\n",
       "      <td>l10nr011</td>\n",
       "      <td>train</td>\n",
       "    </tr>\n",
       "    <tr>\n",
       "      <th>16</th>\n",
       "      <td>l10nr039</td>\n",
       "      <td>train</td>\n",
       "    </tr>\n",
       "    <tr>\n",
       "      <th>21</th>\n",
       "      <td>l10nr046</td>\n",
       "      <td>train</td>\n",
       "    </tr>\n",
       "    <tr>\n",
       "      <th>...</th>\n",
       "      <td>...</td>\n",
       "      <td>...</td>\n",
       "    </tr>\n",
       "    <tr>\n",
       "      <th>418</th>\n",
       "      <td>l9nr009</td>\n",
       "      <td>train</td>\n",
       "    </tr>\n",
       "    <tr>\n",
       "      <th>423</th>\n",
       "      <td>l9nr015</td>\n",
       "      <td>train</td>\n",
       "    </tr>\n",
       "    <tr>\n",
       "      <th>428</th>\n",
       "      <td>l9nr021</td>\n",
       "      <td>train</td>\n",
       "    </tr>\n",
       "    <tr>\n",
       "      <th>433</th>\n",
       "      <td>l9nr027</td>\n",
       "      <td>train</td>\n",
       "    </tr>\n",
       "    <tr>\n",
       "      <th>434</th>\n",
       "      <td>l9nr028</td>\n",
       "      <td>train</td>\n",
       "    </tr>\n",
       "  </tbody>\n",
       "</table>\n",
       "<p>104 rows × 2 columns</p>\n",
       "</div>"
      ],
      "text/plain": [
       "         Name Train_Test\n",
       "1    l10nr002      train\n",
       "2    l10nr003      train\n",
       "8    l10nr011      train\n",
       "16   l10nr039      train\n",
       "21   l10nr046      train\n",
       "..        ...        ...\n",
       "418   l9nr009      train\n",
       "423   l9nr015      train\n",
       "428   l9nr021      train\n",
       "433   l9nr027      train\n",
       "434   l9nr028      train\n",
       "\n",
       "[104 rows x 2 columns]"
      ]
     },
     "execution_count": 7,
     "metadata": {},
     "output_type": "execute_result"
    }
   ],
   "source": [
    "trainTestData[trainTestData['Train_Test']=='train']"
   ]
  },
  {
   "cell_type": "code",
   "execution_count": 29,
   "metadata": {},
   "outputs": [],
   "source": [
    "all_classification = pd.concat([allClass for allClass in results['allClassificationResults']],axis=1)\n",
    "    \n",
    "all_classification.to_csv('allClassificationResults.csv',index=False)"
   ]
  },
  {
   "cell_type": "code",
   "execution_count": null,
   "metadata": {},
   "outputs": [],
   "source": []
  }
 ],
 "metadata": {
  "kernelspec": {
   "display_name": "Python 3",
   "language": "python",
   "name": "python3"
  },
  "language_info": {
   "codemirror_mode": {
    "name": "ipython",
    "version": 3
   },
   "file_extension": ".py",
   "mimetype": "text/x-python",
   "name": "python",
   "nbconvert_exporter": "python",
   "pygments_lexer": "ipython3",
   "version": "3.7.1"
  }
 },
 "nbformat": 4,
 "nbformat_minor": 4
}

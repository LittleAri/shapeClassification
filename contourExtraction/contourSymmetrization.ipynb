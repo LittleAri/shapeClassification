{
 "cells": [
  {
   "cell_type": "markdown",
   "metadata": {},
   "source": [
    "# Symmetrization & Procrustes\n",
    "\n",
    "Here we show an example of symmetrizing contours, re-evaluating the contours and Procrustes aligning them.\n",
    "\n",
    "The inputs:\n",
    "1. path name; *pth*: the location of the folder that contains the CSVs (of the contours).\n",
    "1. path for CSVs; *pth_for_CSVs*: the folder where you want to save the symmetrized contours.\n",
    "\n",
    "Note, the code assumes that the CSVs containing the smoothed contours have the word \"smoothed\" in them - and it replaces that word with \"symmetrized\" when saving the symmetrized contours. If that's not the case, or you wish to name the new CSVs differently, then change the words in line 8 of the __Saving Individual CSVs__ tab below accordingly."
   ]
  },
  {
   "cell_type": "markdown",
   "metadata": {},
   "source": [
    "#### Imports"
   ]
  },
  {
   "cell_type": "code",
   "execution_count": 2,
   "metadata": {},
   "outputs": [],
   "source": [
    "import numpy as np\n",
    "import pandas as pd\n",
    "from copy import deepcopy\n",
    "import os\n",
    "import matplotlib.image as mpimg\n",
    "import matplotlib.pyplot as plt\n",
    "from cont_extraction import load_resize_image\n",
    "from objSymmetrize import procrustes\n",
    "from objSymmetrize import reorderPoints\n",
    "from objSymmetrize import symmetrize\n",
    "from objSymmetrize import rescale"
   ]
  },
  {
   "cell_type": "markdown",
   "metadata": {},
   "source": [
    "### Symmetrization Example"
   ]
  },
  {
   "cell_type": "code",
   "execution_count": null,
   "metadata": {},
   "outputs": [],
   "source": [
    "filenames = []\n",
    "pth = \"C:\\\\Users\\\\arian\\\\Documents\\\\testCSVs\"\n",
    "\n",
    "symmetrizedContours = []\n",
    "\n",
    "errors = []\n",
    "\n",
    "for file in os.listdir(pth):\n",
    "    if (\"csv\" in file):\n",
    "        try:\n",
    "            filenames.append(file)\n",
    "            csv = pd.read_csv(pth+\"\\\\\"+file)\n",
    "            x = np.array(csv['x'])\n",
    "            y = np.array(csv['y'])\n",
    "            print(\"Symmetrizing contour \"+file)\n",
    "            xsym,ysym = symmetrize(x,y,cutEnds=True,reparamPoints=250,proportion=15)\n",
    "            newx,newy = reorderPoints(xsym,ysym,rotate=True)\n",
    "            symmetrizedContours.append([newx,newy])\n",
    "        except:\n",
    "            errors.append(file)\n",
    "            \n",
    "print(\"Symmetrized \"+str(len(symmetrizedContours))+\" contours\")\n",
    "print(\"Total Errors: \"+str(len(errors)))"
   ]
  },
  {
   "cell_type": "markdown",
   "metadata": {},
   "source": [
    "### Procrustes Example"
   ]
  },
  {
   "cell_type": "code",
   "execution_count": 23,
   "metadata": {},
   "outputs": [
    {
     "name": "stdout",
     "output_type": "stream",
     "text": [
      "Procrustes aligned 5 contours\n"
     ]
    }
   ],
   "source": [
    "n = len(filenames)\n",
    "\n",
    "alignedContours = []\n",
    "# 1) Set the template to be the first vase and that to the final list of aligned contours:\n",
    "F0 = np.column_stack([symmetrizedContours[0][0],symmetrizedContours[0][1]])\n",
    "alignedContours.append([symmetrizedContours[0][0],symmetrizedContours[0][1]])\n",
    "\n",
    "# 2) Go through all the other vases and Procrustes align to the template vase:\n",
    "for i in range(1,n):\n",
    "    F = np.column_stack([symmetrizedContours[i][0],symmetrizedContours[i][1]])\n",
    "    _,Fp,_,_,_ = procrustes(F0,F)\n",
    "    # 3) Rescale to make sure it's within the desired range:\n",
    "    xp,yp = rescale(Fp[:,0],Fp[:,1])\n",
    "    alignedContours.append([xp,yp])\n",
    "    \n",
    "print(\"Procrustes aligned \"+str(n)+\" contours\")"
   ]
  },
  {
   "cell_type": "markdown",
   "metadata": {},
   "source": [
    "### Saving Individual CSVs"
   ]
  },
  {
   "cell_type": "code",
   "execution_count": 36,
   "metadata": {},
   "outputs": [],
   "source": [
    "pth_for_CSVs = \"C:\\\\Users\\\\arian\\\\Documents\\\\symmetrizedCSVs\\\\\"\n",
    "\n",
    "for p,file in enumerate(filenames):\n",
    "    x = alignedContours[t][0]\n",
    "    y = alignedContours[t][1]\n",
    "    contourCSV = pd.DataFrame([x,y,list(range(1,len(y)+1))]).T\n",
    "    contourCSV  = contourCSV.rename(columns={0:'x',1:'y',2:'pointOrder'})\n",
    "    name = file.replace('smoothed','symmetrized')\n",
    "    contourCSV.to_csv(pth_for_CSVs+name,index=False)"
   ]
  },
  {
   "cell_type": "markdown",
   "metadata": {},
   "source": [
    "### Plot Example"
   ]
  },
  {
   "cell_type": "code",
   "execution_count": 26,
   "metadata": {},
   "outputs": [
    {
     "data": {
      "image/png": "[encoded data removed]",
      "text/plain": [
       "<Figure size 1080x216 with 5 Axes>"
      ]
     },
     "metadata": {
      "needs_background": "light"
     },
     "output_type": "display_data"
    }
   ],
   "source": [
    "fig,ax = plt.subplots(1,n,figsize=(3*n,3))\n",
    "for t,file in enumerate(filenames):\n",
    "    x = alignedContours[t][0]\n",
    "    y = alignedContours[t][1]\n",
    "    ax[t].plot(x,y,'-b')\n",
    "    ax[t].set_xlim([-1.6,1.6])\n",
    "    ax[t].set_ylim([-1.6,1.6])\n",
    "    ax[t].axis('off')\n",
    "    ax[t].set_title(file,fontsize=8)\n",
    "    \n",
    "# NOTE: remove the hashtag before 'plt' if you wish to save the image and then run.\n",
    "#plt.savefig('Symmetrized_Vases_Example.pdf',dpi=600,bbox_inches='tight',pad_inches=0.5)"
   ]
  },
  {
   "cell_type": "code",
   "execution_count": null,
   "metadata": {},
   "outputs": [],
   "source": []
  }
 ],
 "metadata": {
  "kernelspec": {
   "display_name": "Python 3",
   "language": "python",
   "name": "python3"
  },
  "language_info": {
   "codemirror_mode": {
    "name": "ipython",
    "version": 3
   },
   "file_extension": ".py",
   "mimetype": "text/x-python",
   "name": "python",
   "nbconvert_exporter": "python",
   "pygments_lexer": "ipython3",
   "version": "3.7.1"
  }
 },
 "nbformat": 4,
 "nbformat_minor": 4
}

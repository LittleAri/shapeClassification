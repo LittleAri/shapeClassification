{
 "cells": [
  {
   "cell_type": "markdown",
   "metadata": {},
   "source": [
    "# Contour Extraction & Smoothing\n",
    "\n",
    "Here we have an example of contour extraction from a folder of images. <br>\n",
    "\n",
    "The inputs:\n",
    "1. path name; *pth*: this is the location of the folder that contains the images which you want to extract contours from.\n",
    "1. path for plots; _pth_for_plots_: the folder you want to save the new plots in (i.e. images with smoothed contours overlayed).\n",
    "1. path for CSVs; _pth_for_CSVs_: the folder you want to save the CSVs of the smoothed contours in.\n",
    "\n",
    "Note, the code assumes that you wish to name the columns in the CSV containing a contour as \"x\", \"y\", and \"pointOrder\". If you don't want this, then change these words in line 41 of the code in the __Contour Extraction Example__ tab below."
   ]
  },
  {
   "cell_type": "markdown",
   "metadata": {},
   "source": [
    "#### Imports"
   ]
  },
  {
   "cell_type": "code",
   "execution_count": 1,
   "metadata": {},
   "outputs": [],
   "source": [
    "import numpy as np\n",
    "import pandas as pd\n",
    "from copy import deepcopy\n",
    "import os\n",
    "import matplotlib.image as mpimg\n",
    "import matplotlib.pyplot as plt\n",
    "from cont_extraction import binarize\n",
    "from cont_extraction import get_outline_contour\n",
    "from cont_extraction import load_resize_image\n",
    "from cont_extraction import snakeSmooth\n",
    "from cont_extraction import choose_contour"
   ]
  },
  {
   "cell_type": "markdown",
   "metadata": {},
   "source": [
    "### Contour Extraction Example"
   ]
  },
  {
   "cell_type": "code",
   "execution_count": 6,
   "metadata": {},
   "outputs": [
    {
     "name": "stdout",
     "output_type": "stream",
     "text": [
      "Getting contour for image pot_number1002098.0_url.img_5.jpg\n",
      "Getting contour for image pot_number1006198.0_url.img_8.jpg\n",
      "Getting contour for image pot_number1009549.0_url.img_5 copy.jpg\n",
      "Getting contour for image pot_number180001.0_url.img_6 copy.jpg\n",
      "Getting contour for image pot_number23074.0_url.img_7.jpg\n",
      "Extracted contours from 5 images!\n"
     ]
    }
   ],
   "source": [
    "filenames = []\n",
    "smoothedContours = []\n",
    "pth = \"C:\\\\Users\\\\arian\\\\Downloads\\\\original images\\\\original images\"\n",
    "pth_for_plots = \"C:\\\\Users\\\\arian\\\\Documents\\\\testPlots\\\\\"\n",
    "pth_for_CSVs = \"C:\\\\Users\\\\arian\\\\Documents\\\\testCSVs\\\\\"\n",
    "\n",
    "for file in os.listdir(pth):\n",
    "    if (\"jpg\" in file) or (\"jpeg\" in file) or (\"png\" in file):\n",
    "        filenames.append(file)\n",
    "        # 1) Load and resize image:\n",
    "        img = load_resize_image(pth+\"\\\\\"+file,resize=0.8)\n",
    "        # 2) Binarize\n",
    "        mpx,mpy,finalImages,proportions = binarize(img,white_or_black='both')\n",
    "        print(\"Getting contour for image \"+file)\n",
    "        # 3) Find outline contours:\n",
    "        x1,y1 = get_outline_contour(finalImages[0],mpx,mpy)\n",
    "        x2,y2 = get_outline_contour(finalImages[1],mpx,mpy)\n",
    "        if (x1 == [0]) or (proportions[0]>0.98):\n",
    "            print(\"Redoing contour for image \"+file)\n",
    "            x1,y1 = get_outline_contour(img,mpx,mpy)\n",
    "        if (x2 == [0]) or (proportions[1]>0.98):\n",
    "            print(\"Redoing contour for image \"+file)\n",
    "            x2,y2 = get_outline_contour(img,mpx,mpy)\n",
    "        # 4) Choose best contour:\n",
    "        x,y = choose_contour(x1,y1,x2,y2)\n",
    "        # 5) Basic contour smoothing:\n",
    "        xs,ys = snakeSmooth(img,x,y)\n",
    "        # 6) Save contours into list:\n",
    "        smoothedContours.append([xs,ys])\n",
    "        # 7) Plot contours overlayed on images:\n",
    "        fig,ax = plt.subplots()\n",
    "        ax.imshow(img,cmap='gray')\n",
    "        ax.plot(xs,ys,'-r',linewidth=2)\n",
    "        ax.axis('off')\n",
    "        plt.savefig(pth_for_plots+'Contour_'+file,bbox_inches = 'tight',pad_inches=0.0)\n",
    "        plt.close()\n",
    "        # 8) Save CSV of contour:\n",
    "        contourCSV = pd.DataFrame([xs,ys,list(range(1,len(ys)+1))]).T\n",
    "        contourCSV  = contourCSV.rename(columns={0:'x',1:'y',2:'pointOrder'})\n",
    "        contourCSV.to_csv(pth_for_CSVs+file[:-3]+'_smoothedContour.csv',index=False)        \n",
    "    \n",
    "print(\"Extracted contours from \"+str(n)+\" images!\")"
   ]
  },
  {
   "cell_type": "code",
   "execution_count": null,
   "metadata": {},
   "outputs": [],
   "source": []
  }
 ],
 "metadata": {
  "kernelspec": {
   "display_name": "Python 3",
   "language": "python",
   "name": "python3"
  },
  "language_info": {
   "codemirror_mode": {
    "name": "ipython",
    "version": 3
   },
   "file_extension": ".py",
   "mimetype": "text/x-python",
   "name": "python",
   "nbconvert_exporter": "python",
   "pygments_lexer": "ipython3",
   "version": "3.7.1"
  }
 },
 "nbformat": 4,
 "nbformat_minor": 4
}

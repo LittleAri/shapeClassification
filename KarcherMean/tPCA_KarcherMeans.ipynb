{
 "cells": [
  {
   "cell_type": "markdown",
   "metadata": {},
   "source": [
    "# Karcher Mean & tPCA\n",
    "\n",
    "Using the library [fdasrsf](https://fdasrsf-python.readthedocs.io/en/latest/), we compute the Karcher mean of a group of curves, whilst simultaneously outputting the tangent PCA results too. \n",
    "\n",
    "Note that the open or closed status of the curves can be inputted by using the _open_closed_ parameter in the _align_ function e.g. ``open_closed=\"C\"``.\n",
    "\n",
    "Also note that the number of outputted principal components can be chosen with the _PC_ parameter in _align_ e.g. ``PC=5``."
   ]
  },
  {
   "cell_type": "markdown",
   "metadata": {},
   "source": [
    "#### Imports"
   ]
  },
  {
   "cell_type": "code",
   "execution_count": 1,
   "metadata": {},
   "outputs": [],
   "source": [
    "import numpy as np\n",
    "import pandas as pd\n",
    "from copy import deepcopy\n",
    "import os\n",
    "import matplotlib.pyplot as plt\n",
    "from tPCA_KarcherMean import align\n",
    "from tPCA_KarcherMean import formatData\n",
    "from tPCA_KarcherMean import rescale\n",
    "import re"
   ]
  },
  {
   "cell_type": "markdown",
   "metadata": {},
   "source": [
    "### Load Data"
   ]
  },
  {
   "cell_type": "code",
   "execution_count": 5,
   "metadata": {},
   "outputs": [],
   "source": [
    "df = pd.read_csv(\"C:\\\\Users\\\\arian\\\\Documents\\\\GitHub\\\\contourExtraction\\\\smoothedMussels_Scaled_251.csv\")\n",
    "all_groups = np.unique(list(df['Group']))"
   ]
  },
  {
   "cell_type": "markdown",
   "metadata": {},
   "source": [
    "### Karcher Mean and tPCA\n",
    "\n",
    "Default output is an array containing the aligned curves, a Pandas dataframe containing the Karcher mean and a pandas dataframe containing the tPCA results. If you wish to output _all_ items as an array, instead of a dataframe, then set the _returnDF_ parameter to 0.\n",
    "\n",
    "The default number of principal components is 3. You can change this by adjusting the _PC_ paramter e.g. write _align(beta,PC=4)_."
   ]
  },
  {
   "cell_type": "code",
   "execution_count": null,
   "metadata": {},
   "outputs": [
    {
     "name": "stdout",
     "output_type": "stream",
     "text": [
      "Computing Karcher Mean of 53 curves in SRVF space..\n",
      "updating step: 1\n"
     ]
    }
   ],
   "source": [
    "for group in all_groups:\n",
    "    # Filter dataset for group:\n",
    "    newdf = df[df['Group'].isin([group])]\n",
    "    names = list(np.unique(newdf['Name']))\n",
    "    beta = formatData(newdf)\n",
    "    # Compute Karcher mean / tPCA:\n",
    "    algn,km,tpca = align(beta,returnDF=1)\n",
    "    # Save results:\n",
    "    tpca.index=names\n",
    "    tpca.index.name='Filename'\n",
    "    newname = \"_\".join(re.findall('\\w+',group))\n",
    "    tpca.to_csv('tPCA_'+newname+'.csv')\n",
    "    km.to_csv('KarcherMean_'+newname+'.csv',index=False)"
   ]
  },
  {
   "cell_type": "markdown",
   "metadata": {},
   "source": [
    "### Save CSVs"
   ]
  },
  {
   "cell_type": "code",
   "execution_count": 19,
   "metadata": {},
   "outputs": [],
   "source": [
    "tpca.index=list(np.unique(df['Name']))\n",
    "tpca.index.name='Filename'\n",
    "\n",
    "tpca.to_csv('tPCA_Results2.csv')\n",
    "km.to_csv('KarcherMean_Results2.csv',index=False)"
   ]
  },
  {
   "cell_type": "markdown",
   "metadata": {},
   "source": [
    "### Plot Example"
   ]
  },
  {
   "cell_type": "code",
   "execution_count": 5,
   "metadata": {},
   "outputs": [],
   "source": [
    "xkm,ykm = rescale(list(km['KM_X']),list(km['KM_Y']))"
   ]
  },
  {
   "cell_type": "code",
   "execution_count": 6,
   "metadata": {},
   "outputs": [
    {
     "data": {
      "image/png": "[encoded data removed]",
      "text/plain": [
       "<Figure size 864x216 with 4 Axes>"
      ]
     },
     "metadata": {},
     "output_type": "display_data"
    }
   ],
   "source": [
    "fig,ax = plt.subplots(1,4,figsize=(12,3))\n",
    "\n",
    "names = np.unique(list(df['Name']))\n",
    "\n",
    "cols = ['b','r','c']\n",
    "for p,nm in enumerate(names):\n",
    "    x = list(df[df['Name']==nm]['X'])\n",
    "    y = list(df[df['Name']==nm]['Y'])\n",
    "    ax[p].fill(x,y,'-',color=cols[p])\n",
    "    ax[p].set_title(nm)\n",
    "\n",
    "ax[3].fill(xkm,ykm,'-k')\n",
    "ax[3].set_title('Karcher Mean')\n",
    "\n",
    "for i in range(0,4):\n",
    "    ax[i].set_xlim([-1.6,1.6])\n",
    "    ax[i].set_ylim([-1.6,1.6])\n",
    "    ax[i].set_xticks([])\n",
    "    ax[i].set_yticks([])\n"
   ]
  },
  {
   "cell_type": "code",
   "execution_count": null,
   "metadata": {},
   "outputs": [],
   "source": []
  }
 ],
 "metadata": {
  "kernelspec": {
   "display_name": "Python 3",
   "language": "python",
   "name": "python3"
  },
  "language_info": {
   "codemirror_mode": {
    "name": "ipython",
    "version": 3
   },
   "file_extension": ".py",
   "mimetype": "text/x-python",
   "name": "python",
   "nbconvert_exporter": "python",
   "pygments_lexer": "ipython3",
   "version": "3.7.1"
  }
 },
 "nbformat": 4,
 "nbformat_minor": 4
}

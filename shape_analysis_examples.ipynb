{
 "cells": [
  {
   "cell_type": "markdown",
   "id": "93fd50b6",
   "metadata": {},
   "source": [
    "# Shape Analysis Examples\n",
    "\n",
    "Here, we use the code in https://github.com/LittleAri/shapeClassification to perform elastic shape analysis on outlines from images.\n",
    "\n",
    "### Contours\n",
    "The main datasource is a folder of images. You can use the code in shapeClassification/contourExtraction to extract outlines (though note that this was based on a dataset of Greek vases so it may differ). Alternatively, the code in this notebook just uses a basic combination of Otsu thresholding and Marching Squares to extract the contours. It then focuses on the longest (number of points) contours and assumes that that is the outline of interest.\n",
    "\n",
    "If you don't wish to use images at all, you can skip over to the relevant parts and upload your dataset.\n",
    "\n",
    "### Tasks\n",
    "\n",
    "1. Contour Extraction\n",
    "1. Karcher means and Tangent PCA\n",
    "1. Geodesic distances between all contours\n",
    "1. KNN classification based on distance matrix -- bootstrapped through different combinations of training/testing sets.\n",
    "\n",
    "### Shape Analysis\n",
    "\n",
    "Please refer to [fdasrsf](https://fdasrsf-python.readthedocs.io/en/latest/) for the shape analysis code."
   ]
  },
  {
   "cell_type": "markdown",
   "id": "ef31c734",
   "metadata": {},
   "source": [
    "#### Imports"
   ]
  },
  {
   "cell_type": "code",
   "execution_count": 1,
   "id": "c584c40a",
   "metadata": {},
   "outputs": [],
   "source": [
    "import numpy as np\n",
    "from skimage.filters import threshold_otsu\n",
    "from skimage import measure\n",
    "import skimage.io as io\n",
    "from copy import deepcopy\n",
    "import pandas as pd\n",
    "import matplotlib.pyplot as plt\n",
    "import tqdm\n",
    "import os\n",
    "from pathlib import Path"
   ]
  },
  {
   "cell_type": "markdown",
   "id": "46525e8c",
   "metadata": {},
   "source": [
    "## Step 0 -- Data Preparation"
   ]
  },
  {
   "cell_type": "markdown",
   "id": "0573ebbe",
   "metadata": {},
   "source": [
    "### Data Loading"
   ]
  },
  {
   "cell_type": "code",
   "execution_count": 2,
   "id": "cce5e8d5",
   "metadata": {},
   "outputs": [
    {
     "name": "stdout",
     "output_type": "stream",
     "text": [
      "10 images in total\n"
     ]
    }
   ],
   "source": [
    "# THINGS TO EDIT\n",
    "##################\n",
    "\n",
    "#############################################################\n",
    "path_to_images = '../tests' # species separated into folders  ##\n",
    "path_to_index = '../test_index.csv'                           ##\n",
    "#############################################################"
   ]
  },
  {
   "cell_type": "code",
   "execution_count": 3,
   "id": "5f848e90",
   "metadata": {},
   "outputs": [],
   "source": [
    "image_index = pd.read_csv(path_to_index)\n",
    "\n",
    "all_image_paths = []\n",
    "all_filenames = []\n",
    "for folder in os.listdir(path_to_images):\n",
    "    try:\n",
    "        new_path = path_to_images+'/'+folder\n",
    "        for file in os.listdir(new_path):\n",
    "            all_image_paths.append(new_path+'/'+file)\n",
    "            all_filenames.append(file)\n",
    "    except:\n",
    "        pass\n",
    "        \n",
    "print(str(len(all_image_paths))+\" images in total\")\n",
    "total_images = len(all_image_paths)"
   ]
  },
  {
   "cell_type": "markdown",
   "id": "5f285b93",
   "metadata": {},
   "source": [
    "### Folders"
   ]
  },
  {
   "cell_type": "code",
   "execution_count": 6,
   "id": "e0286e5a",
   "metadata": {},
   "outputs": [],
   "source": [
    "DATA_DIR = Path('../shape_results')\n",
    "\n",
    "OUTPUT_DIR = DATA_DIR / 'Karcher_means'\n",
    "OUTPUT_DIR.mkdir(parents=True, exist_ok=True)\n",
    "\n",
    "OUTPUT_DIR = DATA_DIR / 'tpca'\n",
    "OUTPUT_DIR.mkdir(parents=True, exist_ok=True)\n",
    "\n",
    "OUTPUT_DIR = DATA_DIR / 'geodesic_distances'\n",
    "OUTPUT_DIR.mkdir(parents=True, exist_ok=True)\n",
    "\n",
    "OUTPUT_DIR = DATA_DIR / 'contours'\n",
    "OUTPUT_DIR.mkdir(parents=True, exist_ok=True)\n",
    "\n",
    "OUTPUT_DIR = DATA_DIR / 'knn'\n",
    "OUTPUT_DIR.mkdir(parents=True, exist_ok=True)"
   ]
  },
  {
   "cell_type": "markdown",
   "id": "7a018eeb",
   "metadata": {},
   "source": [
    "## Step 1 -- Contour Extraction"
   ]
  },
  {
   "cell_type": "markdown",
   "id": "3925eae6",
   "metadata": {},
   "source": [
    "### Single Test"
   ]
  },
  {
   "cell_type": "markdown",
   "id": "fdd93d74",
   "metadata": {},
   "source": [
    "#### Image Loading"
   ]
  },
  {
   "cell_type": "code",
   "execution_count": 7,
   "id": "e17f1674",
   "metadata": {},
   "outputs": [],
   "source": [
    "# Image loading\n",
    "k_index = 3\n",
    "image_colour = io.imread(all_image_paths[k_index])\n",
    "image_grey = io.imread(all_image_paths[k_index],as_gray=True)"
   ]
  },
  {
   "cell_type": "markdown",
   "id": "30c31b1f",
   "metadata": {},
   "source": [
    "#### Contour Extraction"
   ]
  },
  {
   "cell_type": "code",
   "execution_count": 8,
   "id": "2ce904e6",
   "metadata": {},
   "outputs": [],
   "source": [
    "# Binarize and contour extraction\n",
    "thresh = threshold_otsu(image_grey)\n",
    "binary = image_grey > thresh\n",
    "contours = measure.find_contours(binary, 0.8)"
   ]
  },
  {
   "cell_type": "markdown",
   "id": "ca4e696a",
   "metadata": {},
   "source": [
    "#### Example Plots"
   ]
  },
  {
   "cell_type": "code",
   "execution_count": 9,
   "id": "a0799e70",
   "metadata": {},
   "outputs": [
    {
     "data": {
      "text/plain": [
       "[<matplotlib.lines.Line2D at 0x12cd69790>]"
      ]
     },
     "execution_count": 9,
     "metadata": {},
     "output_type": "execute_result"
    },
    {
     "data": {
      "image/png": "[encoded data removed]",
      "text/plain": [
       "<Figure size 300x300 with 1 Axes>"
      ]
     },
     "metadata": {},
     "output_type": "display_data"
    }
   ],
   "source": [
    "# Example plot\n",
    "\n",
    "fig,ax = plt.subplots(figsize=(3,3))\n",
    "ax.imshow(image_colour)\n",
    "ax.axis('off')\n",
    "\n",
    "for c in contours:\n",
    "    ax.plot(c[:,1],c[:,0])\n",
    "    \n",
    "# Plot longest (no. points) contour against all contours\n",
    "k_longest = np.argmax([len(c[:,0]) for c in contours])\n",
    "x = contours[k_longest][:,1]\n",
    "y = contours[k_longest][:,0]\n",
    "\n",
    "ax.plot(x,y,'-m',lw=3)"
   ]
  },
  {
   "cell_type": "markdown",
   "id": "e5fc3f3c",
   "metadata": {},
   "source": [
    "### Contour Extraction Loop"
   ]
  },
  {
   "cell_type": "markdown",
   "id": "7ce14d6a",
   "metadata": {},
   "source": [
    "#### Functions / Imports"
   ]
  },
  {
   "cell_type": "code",
   "execution_count": 10,
   "id": "34b36384",
   "metadata": {},
   "outputs": [],
   "source": [
    "def find_contours_from_image(greyscaled_image):\n",
    "    thresh = threshold_otsu(greyscaled_image)\n",
    "    binary = greyscaled_image > thresh\n",
    "    contours = measure.find_contours(binary, 0.8)\n",
    "    k_longest = np.argmax([len(c[:,0]) for c in contours])\n",
    "    x = contours[k_longest][:,1]\n",
    "    y = contours[k_longest][:,0]\n",
    "    return x,y"
   ]
  },
  {
   "cell_type": "code",
   "execution_count": 11,
   "id": "8ea2ba05",
   "metadata": {
    "scrolled": true
   },
   "outputs": [],
   "source": [
    "# Reparametrize and rescale functions\n",
    "\n",
    "from contourExtraction.objSymmetrize import reparam, rescale"
   ]
  },
  {
   "cell_type": "markdown",
   "id": "e02ec7d7",
   "metadata": {},
   "source": [
    "#### Contour Finding"
   ]
  },
  {
   "cell_type": "code",
   "execution_count": 12,
   "id": "80e09653",
   "metadata": {},
   "outputs": [],
   "source": [
    "all_contours = []\n",
    "\n",
    "number_of_points = 100\n",
    "\n",
    "for i,path in enumerate(all_image_paths):\n",
    "    file = all_filenames[i]\n",
    "    species = image_index[image_index['Filename']==all_filenames[i]]['Class'].iloc[0]\n",
    "    ID = image_index[image_index['Filename']==all_filenames[i]]['Index'].iloc[0]\n",
    "    image_grey = io.imread(path,as_gray=True)\n",
    "    x,y = find_contours_from_image(image_grey)\n",
    "    xr,yr = reparam(x,y,number_of_points)\n",
    "    xs,ys = rescale(xr,yr)\n",
    "    all_contours.append([[ID]*number_of_points,[file]*number_of_points,[species]*number_of_points,xs,ys])"
   ]
  },
  {
   "cell_type": "markdown",
   "id": "da2e358d",
   "metadata": {},
   "source": [
    "#### Dataframe of Contours"
   ]
  },
  {
   "cell_type": "code",
   "execution_count": 13,
   "id": "7a2c0dac",
   "metadata": {},
   "outputs": [],
   "source": [
    "contours_table = pd.DataFrame()\n",
    "size_ = total_images * number_of_points\n",
    "\n",
    "contours_table['Index'] = list(np.array(all_contours)[:,0,:].reshape(size_,1).flatten())\n",
    "contours_table['Filename'] = list(np.array(all_contours)[:,1,:].reshape(size_,1).flatten())\n",
    "contours_table['Species'] = list(np.array(all_contours)[:,2,:].reshape(size_,1).flatten())\n",
    "contours_table['X'] = list(np.float_(np.array(all_contours)[:,3,:]).reshape(size_,1).flatten())\n",
    "contours_table['Y'] = list(np.float_(np.array(all_contours)[:,4,:]).reshape(size_,1).flatten())"
   ]
  },
  {
   "cell_type": "code",
   "execution_count": 14,
   "id": "1d24cf76",
   "metadata": {},
   "outputs": [],
   "source": [
    "contours_table.to_csv('../shape_results/contours/contours_table.csv',index=False)"
   ]
  },
  {
   "cell_type": "markdown",
   "id": "a75e890c",
   "metadata": {},
   "source": [
    "## Step 2 -- Karcher Means"
   ]
  },
  {
   "cell_type": "markdown",
   "id": "062c2aa3",
   "metadata": {},
   "source": [
    "#### Imports"
   ]
  },
  {
   "cell_type": "code",
   "execution_count": 15,
   "id": "40c55c33",
   "metadata": {},
   "outputs": [],
   "source": [
    "from KarcherMean.tPCA_KarcherMean import align\n",
    "from KarcherMean.tPCA_KarcherMean import formatData\n",
    "from KarcherMean.tPCA_KarcherMean import rescale"
   ]
  },
  {
   "cell_type": "markdown",
   "id": "5fb73897",
   "metadata": {},
   "source": [
    "### Data Preparation"
   ]
  },
  {
   "cell_type": "code",
   "execution_count": 17,
   "id": "c8b7a622",
   "metadata": {},
   "outputs": [],
   "source": [
    "# contours_table = pd.read_csv('../shape_results/contours/contours_table.csv')\n",
    "\n",
    "all_groups = np.unique(list(contours_table['Species'])) # or whichever classes you are focusing on."
   ]
  },
  {
   "cell_type": "markdown",
   "id": "9358f69a",
   "metadata": {},
   "source": [
    "### Karcher Means / tPCA per Specie"
   ]
  },
  {
   "cell_type": "code",
   "execution_count": 19,
   "id": "413f4c0c",
   "metadata": {},
   "outputs": [
    {
     "name": "stderr",
     "output_type": "stream",
     "text": [
      "\r",
      "  0%|                                                                   | 0/3 [00:00<?, ?it/s]"
     ]
    },
    {
     "name": "stdout",
     "output_type": "stream",
     "text": [
      "Computing Karcher Mean of 3 curves in SRVF space..\n",
      "updating step: 1\n",
      "updating step: 2\n",
      "updating step: 3\n"
     ]
    },
    {
     "name": "stderr",
     "output_type": "stream",
     "text": [
      "\r",
      " 33%|███████████████████▋                                       | 1/3 [00:01<00:02,  1.29s/it]"
     ]
    },
    {
     "name": "stdout",
     "output_type": "stream",
     "text": [
      "Computing Karcher Mean of 4 curves in SRVF space..\n",
      "updating step: 1\n",
      "updating step: 2\n",
      "updating step: 3\n",
      "updating step: 4\n",
      "updating step: 5\n"
     ]
    },
    {
     "name": "stderr",
     "output_type": "stream",
     "text": [
      "\r",
      " 67%|███████████████████████████████████████▎                   | 2/3 [00:03<00:01,  1.66s/it]"
     ]
    },
    {
     "name": "stdout",
     "output_type": "stream",
     "text": [
      "Computing Karcher Mean of 3 curves in SRVF space..\n",
      "updating step: 1\n",
      "updating step: 2\n",
      "updating step: 3\n"
     ]
    },
    {
     "name": "stderr",
     "output_type": "stream",
     "text": [
      "100%|███████████████████████████████████████████████████████████| 3/3 [00:04<00:00,  1.50s/it]\n"
     ]
    }
   ],
   "source": [
    "for group in tqdm.tqdm(all_groups):\n",
    "    # Filter dataset for group:\n",
    "    newdf = contours_table[contours_table['Species'].isin([group])]\n",
    "    names = list(pd.unique(newdf['Filename']))\n",
    "    beta = formatData(newdf,varName=\"Filename\", xName=\"X\", yName=\"Y\")\n",
    "    # Compute Karcher mean / tPCA:\n",
    "    algn,km,tpca = align(beta,returnDF=1)\n",
    "    # Save results:\n",
    "    tpca.index=names\n",
    "    tpca.index.name='Filename'\n",
    "    newname = str(group)#\"_\".join(re.findall('\\w+',group))\n",
    "    tpca.to_csv('../shape_results//tpca/tPCA_'+newname+'.csv')\n",
    "    km.to_csv('../shape_results/Karcher_means/KarcherMean_'+newname+'.csv',index=False)"
   ]
  },
  {
   "cell_type": "markdown",
   "id": "6bf31e6d",
   "metadata": {},
   "source": [
    "### Karcher Mean of Total Sample"
   ]
  },
  {
   "cell_type": "code",
   "execution_count": 20,
   "id": "a8db0a5f",
   "metadata": {},
   "outputs": [
    {
     "name": "stdout",
     "output_type": "stream",
     "text": [
      "Computing Karcher Mean of 10 curves in SRVF space..\n",
      "updating step: 1\n",
      "updating step: 2\n",
      "updating step: 3\n",
      "updating step: 4\n",
      "updating step: 5\n",
      "updating step: 6\n"
     ]
    }
   ],
   "source": [
    "names = list(pd.unique(contours_table['Filename']))\n",
    "beta = formatData(contours_table,varName=\"Filename\", xName=\"X\", yName=\"Y\")\n",
    "# Compute Karcher mean / tPCA:\n",
    "algn,km,tpca = align(beta,returnDF=1)\n",
    "# Save results:\n",
    "tpca.index=names\n",
    "tpca.index.name='Filename'\n",
    "tpca.to_csv('../shape_results/tpca/tPCA_all.csv')\n",
    "km.to_csv('../shape_results/Karcher_means/KarcherMean_all.csv',index=False)"
   ]
  },
  {
   "cell_type": "markdown",
   "id": "5fb729c4",
   "metadata": {},
   "source": [
    "#### Example Plot"
   ]
  },
  {
   "cell_type": "code",
   "execution_count": 22,
   "id": "5efb75c9",
   "metadata": {},
   "outputs": [
    {
     "data": {
      "image/png": "[encoded data removed]",
      "text/plain": [
       "<Figure size 1200x300 with 4 Axes>"
      ]
     },
     "metadata": {},
     "output_type": "display_data"
    }
   ],
   "source": [
    "fig,ax = plt.subplots(1,4,figsize=(12,3))\n",
    "\n",
    "\n",
    "cols = ['b','r','c']\n",
    "for p in range(3):\n",
    "    ax[p].fill(beta[0,:,p],beta[1,:,p],'-',color=cols[p])\n",
    "    ax[p].set_title('Contour #'+str(p))\n",
    "\n",
    "ax[3].fill(km['x'],km['y'],'-k')\n",
    "ax[3].set_title('Karcher Mean')\n",
    "\n",
    "for i in range(0,4):\n",
    "    ax[i].set_xlim([-1.6,1.6])\n",
    "    ax[i].set_ylim([-1.6,1.6])\n",
    "    ax[i].set_xticks([])\n",
    "    ax[i].set_yticks([])\n"
   ]
  },
  {
   "cell_type": "markdown",
   "id": "940f9c68",
   "metadata": {},
   "source": [
    "## Step 3 -- Geodesic Distances"
   ]
  },
  {
   "cell_type": "markdown",
   "id": "89422a2b",
   "metadata": {},
   "source": [
    "#### Imports"
   ]
  },
  {
   "cell_type": "code",
   "execution_count": 23,
   "id": "41d89ce1",
   "metadata": {},
   "outputs": [],
   "source": [
    "from geodesicDistances.geodesicDistances import geodDistance"
   ]
  },
  {
   "cell_type": "markdown",
   "id": "53f61b35",
   "metadata": {},
   "source": [
    "### Data Preparation"
   ]
  },
  {
   "cell_type": "code",
   "execution_count": 24,
   "id": "3ea32812",
   "metadata": {},
   "outputs": [
    {
     "name": "stdout",
     "output_type": "stream",
     "text": [
      "10 contours in dataset.\n"
     ]
    }
   ],
   "source": [
    "## If data not already loaded:\n",
    "# pth = '../shape_results/contours/contours_table.csv'\n",
    "# df = pd.read_csv(pth)\n",
    "# names = np.unique(list(df['Filename']))\n",
    "\n",
    "## If data loaded:\n",
    "n = len(names)\n",
    "df = deepcopy(contours_table)\n",
    "print(str(n)+\" contours in dataset.\")"
   ]
  },
  {
   "cell_type": "markdown",
   "id": "2e7c3da2",
   "metadata": {},
   "source": [
    "### Distance Table Computation"
   ]
  },
  {
   "cell_type": "code",
   "execution_count": 25,
   "id": "d3738e11",
   "metadata": {},
   "outputs": [
    {
     "name": "stderr",
     "output_type": "stream",
     "text": [
      "100%|█████████████████████████████████████████████████████████| 10/10 [00:04<00:00,  2.45it/s]"
     ]
    },
    {
     "name": "stdout",
     "output_type": "stream",
     "text": [
      "Computed distances between 10 contours, with 0 errors.\n"
     ]
    },
    {
     "name": "stderr",
     "output_type": "stream",
     "text": [
      "\n"
     ]
    }
   ],
   "source": [
    "distances = np.zeros((n,n))\n",
    "errors = []\n",
    "\n",
    "for i in tqdm.tqdm(range(0,n)):\n",
    "    x1 = list(df[df['Filename']==names[i]]['X'])\n",
    "    y1 = list(df[df['Filename']==names[i]]['Y'])\n",
    "    for j in range(i+1,n):\n",
    "        x2 = list(df[df['Filename']==names[j]]['X'])\n",
    "        y2 = list(df[df['Filename']==names[j]]['Y'])\n",
    "        try:\n",
    "            d,_,_,_ = geodDistance(x1,y1,x2,y2,k=5)\n",
    "        except:\n",
    "            try:\n",
    "                d,_,_,_ = geodDistance(x2,y2,x1,y1,k=5)\n",
    "            except:\n",
    "                print(\"Error for contours \"+str(i)+\" and \"+str(j))\n",
    "                errors.append([i,j])\n",
    "                d = 100000\n",
    "        distances[i,j] = d\n",
    "        distances[j,i] = d\n",
    "\n",
    "print(\"Computed distances between \"+str(n)+\" contours, with \"+str(len(errors))+\" errors.\")"
   ]
  },
  {
   "cell_type": "markdown",
   "id": "dde78f9a",
   "metadata": {},
   "source": [
    "### Saving Data"
   ]
  },
  {
   "cell_type": "code",
   "execution_count": 26,
   "id": "a4c72928",
   "metadata": {},
   "outputs": [],
   "source": [
    "distancesDF = pd.DataFrame(distances,index=names)\n",
    "distancesDF.columns = names\n",
    "distancesDF.index.name='Name'\n",
    "distancesDF.to_csv('../shape_results/geodesic_distances/distances.csv')"
   ]
  },
  {
   "cell_type": "code",
   "execution_count": 27,
   "id": "e1852ca3",
   "metadata": {},
   "outputs": [
    {
     "data": {
      "text/html": [
       "<div>\n",
       "<style scoped>\n",
       "    .dataframe tbody tr th:only-of-type {\n",
       "        vertical-align: middle;\n",
       "    }\n",
       "\n",
       "    .dataframe tbody tr th {\n",
       "        vertical-align: top;\n",
       "    }\n",
       "\n",
       "    .dataframe thead th {\n",
       "        text-align: right;\n",
       "    }\n",
       "</style>\n",
       "<table border=\"1\" class=\"dataframe\">\n",
       "  <thead>\n",
       "    <tr style=\"text-align: right;\">\n",
       "      <th></th>\n",
       "      <th>Amos Lake 1_6.jpg_0.png</th>\n",
       "      <th>Amos Lake 1_7.jpg_0.png</th>\n",
       "      <th>Amos Lake 1_7.jpg_2.png</th>\n",
       "      <th>Amos_1990_1.jpg_0.png</th>\n",
       "      <th>Amos Lake 3_3.jpg_0.png</th>\n",
       "      <th>Amos Lake 3_2.jpg_3.png</th>\n",
       "      <th>Amos Lake 3_1.jpg_0.png</th>\n",
       "      <th>Amos Lake 1_6.jpg_1.png</th>\n",
       "      <th>Amos Lake 3_5.jpg_0.png</th>\n",
       "      <th>Amos Lake 1_6.jpg_2.png</th>\n",
       "    </tr>\n",
       "    <tr>\n",
       "      <th>Name</th>\n",
       "      <th></th>\n",
       "      <th></th>\n",
       "      <th></th>\n",
       "      <th></th>\n",
       "      <th></th>\n",
       "      <th></th>\n",
       "      <th></th>\n",
       "      <th></th>\n",
       "      <th></th>\n",
       "      <th></th>\n",
       "    </tr>\n",
       "  </thead>\n",
       "  <tbody>\n",
       "    <tr>\n",
       "      <th>Amos Lake 1_6.jpg_0.png</th>\n",
       "      <td>0.000000</td>\n",
       "      <td>0.068538</td>\n",
       "      <td>0.100795</td>\n",
       "      <td>0.124674</td>\n",
       "      <td>0.108518</td>\n",
       "      <td>0.133392</td>\n",
       "      <td>0.125182</td>\n",
       "      <td>0.254026</td>\n",
       "      <td>0.232722</td>\n",
       "      <td>0.265767</td>\n",
       "    </tr>\n",
       "    <tr>\n",
       "      <th>Amos Lake 1_7.jpg_0.png</th>\n",
       "      <td>0.068538</td>\n",
       "      <td>0.000000</td>\n",
       "      <td>0.088617</td>\n",
       "      <td>0.131216</td>\n",
       "      <td>0.114504</td>\n",
       "      <td>0.134011</td>\n",
       "      <td>0.138997</td>\n",
       "      <td>0.258839</td>\n",
       "      <td>0.218080</td>\n",
       "      <td>0.282215</td>\n",
       "    </tr>\n",
       "    <tr>\n",
       "      <th>Amos Lake 1_7.jpg_2.png</th>\n",
       "      <td>0.100795</td>\n",
       "      <td>0.088617</td>\n",
       "      <td>0.000000</td>\n",
       "      <td>0.077181</td>\n",
       "      <td>0.058596</td>\n",
       "      <td>0.062157</td>\n",
       "      <td>0.072697</td>\n",
       "      <td>0.183449</td>\n",
       "      <td>0.161650</td>\n",
       "      <td>0.192049</td>\n",
       "    </tr>\n",
       "    <tr>\n",
       "      <th>Amos_1990_1.jpg_0.png</th>\n",
       "      <td>0.124674</td>\n",
       "      <td>0.131216</td>\n",
       "      <td>0.077181</td>\n",
       "      <td>0.000000</td>\n",
       "      <td>0.054549</td>\n",
       "      <td>0.057365</td>\n",
       "      <td>0.078876</td>\n",
       "      <td>0.145847</td>\n",
       "      <td>0.122482</td>\n",
       "      <td>0.147693</td>\n",
       "    </tr>\n",
       "    <tr>\n",
       "      <th>Amos Lake 3_3.jpg_0.png</th>\n",
       "      <td>0.108518</td>\n",
       "      <td>0.114504</td>\n",
       "      <td>0.058596</td>\n",
       "      <td>0.054549</td>\n",
       "      <td>0.000000</td>\n",
       "      <td>0.052585</td>\n",
       "      <td>0.074353</td>\n",
       "      <td>0.167892</td>\n",
       "      <td>0.154677</td>\n",
       "      <td>0.180983</td>\n",
       "    </tr>\n",
       "  </tbody>\n",
       "</table>\n",
       "</div>"
      ],
      "text/plain": [
       "                         Amos Lake 1_6.jpg_0.png  Amos Lake 1_7.jpg_0.png  \\\n",
       "Name                                                                        \n",
       "Amos Lake 1_6.jpg_0.png                 0.000000                 0.068538   \n",
       "Amos Lake 1_7.jpg_0.png                 0.068538                 0.000000   \n",
       "Amos Lake 1_7.jpg_2.png                 0.100795                 0.088617   \n",
       "Amos_1990_1.jpg_0.png                   0.124674                 0.131216   \n",
       "Amos Lake 3_3.jpg_0.png                 0.108518                 0.114504   \n",
       "\n",
       "                         Amos Lake 1_7.jpg_2.png  Amos_1990_1.jpg_0.png  \\\n",
       "Name                                                                      \n",
       "Amos Lake 1_6.jpg_0.png                 0.100795               0.124674   \n",
       "Amos Lake 1_7.jpg_0.png                 0.088617               0.131216   \n",
       "Amos Lake 1_7.jpg_2.png                 0.000000               0.077181   \n",
       "Amos_1990_1.jpg_0.png                   0.077181               0.000000   \n",
       "Amos Lake 3_3.jpg_0.png                 0.058596               0.054549   \n",
       "\n",
       "                         Amos Lake 3_3.jpg_0.png  Amos Lake 3_2.jpg_3.png  \\\n",
       "Name                                                                        \n",
       "Amos Lake 1_6.jpg_0.png                 0.108518                 0.133392   \n",
       "Amos Lake 1_7.jpg_0.png                 0.114504                 0.134011   \n",
       "Amos Lake 1_7.jpg_2.png                 0.058596                 0.062157   \n",
       "Amos_1990_1.jpg_0.png                   0.054549                 0.057365   \n",
       "Amos Lake 3_3.jpg_0.png                 0.000000                 0.052585   \n",
       "\n",
       "                         Amos Lake 3_1.jpg_0.png  Amos Lake 1_6.jpg_1.png  \\\n",
       "Name                                                                        \n",
       "Amos Lake 1_6.jpg_0.png                 0.125182                 0.254026   \n",
       "Amos Lake 1_7.jpg_0.png                 0.138997                 0.258839   \n",
       "Amos Lake 1_7.jpg_2.png                 0.072697                 0.183449   \n",
       "Amos_1990_1.jpg_0.png                   0.078876                 0.145847   \n",
       "Amos Lake 3_3.jpg_0.png                 0.074353                 0.167892   \n",
       "\n",
       "                         Amos Lake 3_5.jpg_0.png  Amos Lake 1_6.jpg_2.png  \n",
       "Name                                                                       \n",
       "Amos Lake 1_6.jpg_0.png                 0.232722                 0.265767  \n",
       "Amos Lake 1_7.jpg_0.png                 0.218080                 0.282215  \n",
       "Amos Lake 1_7.jpg_2.png                 0.161650                 0.192049  \n",
       "Amos_1990_1.jpg_0.png                   0.122482                 0.147693  \n",
       "Amos Lake 3_3.jpg_0.png                 0.154677                 0.180983  "
      ]
     },
     "execution_count": 27,
     "metadata": {},
     "output_type": "execute_result"
    }
   ],
   "source": [
    "distancesDF.head()"
   ]
  },
  {
   "cell_type": "markdown",
   "id": "2bb72249",
   "metadata": {},
   "source": [
    "## Step 4 -- KNN Classification on Geodesic Distances"
   ]
  },
  {
   "cell_type": "markdown",
   "id": "e57200ef",
   "metadata": {},
   "source": [
    "#### Imports"
   ]
  },
  {
   "cell_type": "code",
   "execution_count": 2,
   "id": "6d1e1a82",
   "metadata": {},
   "outputs": [],
   "source": [
    "from KNN_Classification.KNN_distanceMatrix import *"
   ]
  },
  {
   "cell_type": "markdown",
   "id": "dada6ae0",
   "metadata": {},
   "source": [
    "### Data"
   ]
  },
  {
   "cell_type": "code",
   "execution_count": 3,
   "id": "2b4b8998",
   "metadata": {},
   "outputs": [],
   "source": [
    "## Uncomment if not already loaded:\n",
    "image_index = pd.read_csv('test_index.csv')\n",
    "distancesDF = pd.read_csv('../shape_results/geodesic_distances/distances.csv')\n",
    "classType = int #NOTE: if you're classes are integers e.g. Species 1-10, then write int, else, if they're strings, write str\n",
    "\n",
    "############################################\n",
    "classes = np.unique(list(image_index['Class']))"
   ]
  },
  {
   "cell_type": "markdown",
   "id": "0a90beb3",
   "metadata": {},
   "source": [
    "### KNN Bootstrapping"
   ]
  },
  {
   "cell_type": "code",
   "execution_count": 4,
   "id": "9e203bde",
   "metadata": {},
   "outputs": [],
   "source": [
    "results = KNN_Bootstrapping(\n",
    "    image_index,\n",
    "    distancesDF,\n",
    "    classes,\n",
    "    nBootstrapping=3, # default 50\n",
    "    classType=classType, # default str\n",
    "    trainingProportion=0.5, # default 0\n",
    "    kNeighbours=np.int_(np.linspace(1, 4, 4)), # default 3...12\n",
    "    nameVariable=\"Filename\", # default is Name\n",
    "    classVariable=\"Class\") # same as default\n"
   ]
  },
  {
   "cell_type": "code",
   "execution_count": 7,
   "id": "d225ed2e",
   "metadata": {},
   "outputs": [
    {
     "data": {
      "text/plain": [
       "dict_keys(['topF1Score', 'topClassification', 'topTrainingTesting', 'allF1Scores', 'allTopNeighbours', 'allTrainingSamples', 'allClassificationResults'])"
      ]
     },
     "execution_count": 7,
     "metadata": {},
     "output_type": "execute_result"
    }
   ],
   "source": [
    "results.keys()"
   ]
  },
  {
   "cell_type": "code",
   "execution_count": 12,
   "id": "4fb99a75",
   "metadata": {},
   "outputs": [
    {
     "data": {
      "text/html": [
       "<div>\n",
       "<style scoped>\n",
       "    .dataframe tbody tr th:only-of-type {\n",
       "        vertical-align: middle;\n",
       "    }\n",
       "\n",
       "    .dataframe tbody tr th {\n",
       "        vertical-align: top;\n",
       "    }\n",
       "\n",
       "    .dataframe thead th {\n",
       "        text-align: right;\n",
       "    }\n",
       "</style>\n",
       "<table border=\"1\" class=\"dataframe\">\n",
       "  <thead>\n",
       "    <tr style=\"text-align: right;\">\n",
       "      <th></th>\n",
       "      <th>Name</th>\n",
       "      <th>predictedClass</th>\n",
       "      <th>actualClass</th>\n",
       "    </tr>\n",
       "  </thead>\n",
       "  <tbody>\n",
       "    <tr>\n",
       "      <th>0</th>\n",
       "      <td>Amos Lake 1_6.jpg_0.png</td>\n",
       "      <td>1</td>\n",
       "      <td>1</td>\n",
       "    </tr>\n",
       "    <tr>\n",
       "      <th>1</th>\n",
       "      <td>Amos Lake 1_7.jpg_2.png</td>\n",
       "      <td>2</td>\n",
       "      <td>1</td>\n",
       "    </tr>\n",
       "    <tr>\n",
       "      <th>2</th>\n",
       "      <td>Amos Lake 1_6.jpg_1.png</td>\n",
       "      <td>2</td>\n",
       "      <td>2</td>\n",
       "    </tr>\n",
       "    <tr>\n",
       "      <th>3</th>\n",
       "      <td>Amos Lake 1_6.jpg_2.png</td>\n",
       "      <td>2</td>\n",
       "      <td>2</td>\n",
       "    </tr>\n",
       "    <tr>\n",
       "      <th>4</th>\n",
       "      <td>Amos Lake 3_2.jpg_3.png</td>\n",
       "      <td>3</td>\n",
       "      <td>3</td>\n",
       "    </tr>\n",
       "  </tbody>\n",
       "</table>\n",
       "</div>"
      ],
      "text/plain": [
       "                      Name predictedClass actualClass\n",
       "0  Amos Lake 1_6.jpg_0.png              1           1\n",
       "1  Amos Lake 1_7.jpg_2.png              2           1\n",
       "2  Amos Lake 1_6.jpg_1.png              2           2\n",
       "3  Amos Lake 1_6.jpg_2.png              2           2\n",
       "4  Amos Lake 3_2.jpg_3.png              3           3"
      ]
     },
     "execution_count": 12,
     "metadata": {},
     "output_type": "execute_result"
    }
   ],
   "source": [
    "pd.DataFrame(results['topClassification']).head()"
   ]
  },
  {
   "cell_type": "code",
   "execution_count": 5,
   "id": "74a62c7f",
   "metadata": {},
   "outputs": [
    {
     "data": {
      "text/plain": [
       "{'train': ['Amos Lake 1_7.jpg_0.png',\n",
       "  'Amos Lake 3_1.jpg_0.png',\n",
       "  'Amos Lake 3_5.jpg_0.png',\n",
       "  'Amos_1990_1.jpg_0.png'],\n",
       " 'test': ['Amos Lake 1_6.jpg_0.png',\n",
       "  'Amos Lake 1_7.jpg_2.png',\n",
       "  'Amos Lake 1_6.jpg_1.png',\n",
       "  'Amos Lake 1_6.jpg_2.png',\n",
       "  'Amos Lake 3_2.jpg_3.png',\n",
       "  'Amos Lake 3_3.jpg_0.png']}"
      ]
     },
     "execution_count": 5,
     "metadata": {},
     "output_type": "execute_result"
    }
   ],
   "source": [
    "results['topTrainingTesting']"
   ]
  },
  {
   "cell_type": "code",
   "execution_count": 6,
   "id": "d88c60da",
   "metadata": {},
   "outputs": [
    {
     "data": {
      "text/plain": [
       "array([[0.82222222, 0.82222222, 0.66666667]])"
      ]
     },
     "execution_count": 6,
     "metadata": {},
     "output_type": "execute_result"
    }
   ],
   "source": [
    "results['allF1Scores']"
   ]
  },
  {
   "cell_type": "code",
   "execution_count": 13,
   "id": "3ae2545c",
   "metadata": {},
   "outputs": [],
   "source": [
    "# Save what you like:\n",
    "pd.DataFrame(results['topClassification']).to_csv('../shape_results/knn/top_knn_classification.csv',index=False)\n",
    "np.save('../shape_results/knn/top_knn_training_testing_split.npy',results['topTrainingTesting'])"
   ]
  },
  {
   "cell_type": "code",
   "execution_count": 20,
   "id": "d085c95b",
   "metadata": {},
   "outputs": [],
   "source": []
  },
  {
   "cell_type": "code",
   "execution_count": null,
   "id": "96e4e181",
   "metadata": {},
   "outputs": [],
   "source": []
  }
 ],
 "metadata": {
  "kernelspec": {
   "display_name": "shape_venv",
   "language": "python",
   "name": "shape_venv"
  },
  "language_info": {
   "codemirror_mode": {
    "name": "ipython",
    "version": 3
   },
   "file_extension": ".py",
   "mimetype": "text/x-python",
   "name": "python",
   "nbconvert_exporter": "python",
   "pygments_lexer": "ipython3",
   "version": "3.12.3"
  }
 },
 "nbformat": 4,
 "nbformat_minor": 5
}
